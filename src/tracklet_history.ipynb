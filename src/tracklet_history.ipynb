{
 "cells": [
  {
   "cell_type": "code",
   "execution_count": null,
   "metadata": {},
   "outputs": [],
   "source": [
    "%load_ext autoreload\n",
    "%autoreload 2\n",
    "\n",
    "#  matplotlib inline\n",
    "from nuscenes import NuScenes\n",
    "nusc = NuScenes(version=configs['init']['version'], dataroot=configs['init']['dataroot'], verbose=True)"
   ]
  },
  {
   "cell_type": "code",
   "execution_count": null,
   "metadata": {},
   "outputs": [],
   "source": [
    "my_instance_token = 'xxx'"
   ]
  },
  {
   "cell_type": "code",
   "execution_count": null,
   "metadata": {},
   "outputs": [],
   "source": [
    "#from sky.plot import plot_tracklet_history\n",
    "from matplotlib import pyplot as plt\n",
    "\n",
    "def format_axis(ax,xlabel,ylabel):\n",
    "    plt.style.use('classic')\n",
    "    ax.grid('on')\n",
    "    ax.tick_params(axis='x', labelsize= 13)\n",
    "    ax.tick_params(axis='y', labelsize= 13)\n",
    "\n",
    "    ax.set_xlabel(xlabel = xlabel, fontsize= 15)\n",
    "    ax.set_ylabel(ylabel = ylabel, fontsize= 15)\n",
    "    return\n",
    "\n",
    "def plot_tracklet_history(nusc,tracking_id,instance_id,config,ax):\n",
    "    if config['plot_dist']:\n",
    "        ax.plot(...)\n",
    "        ...\n",
    "    elif config['plot_xyz']:\n",
    "        ax.plot(...)\n",
    "        ...\n",
    "    ...\n",
    "\n",
    "    # detection score\n",
    "    # tracking score\n",
    "    # object distance\n",
    "\n",
    "\n",
    "\n",
    "instance_class = 'some class'\n",
    "\n",
    "fig, ax = plt.subplots(1, 1, figsize=(15, 5))\n",
    "fig.suptitle(f'Tracklet history {instance_class}')\n",
    "\n",
    "## prepare data\n",
    "# ...\n",
    "\n",
    "\n",
    "# visualize the data\n",
    "plot_tracklet_history(nusc,my_instance_token,ax ... )"
   ]
  }
 ],
 "metadata": {
  "language_info": {
   "name": "python"
  },
  "orig_nbformat": 4
 },
 "nbformat": 4,
 "nbformat_minor": 2
}
