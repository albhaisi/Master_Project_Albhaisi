{
 "cells": [
  {
   "cell_type": "code",
   "execution_count": null,
   "metadata": {},
   "outputs": [],
   "source": [
    "%load_ext autoreload\n",
    "%autoreload 2\n",
    "\n",
    "#  matplotlib inline\n",
    "from nuscenes import NuScenes\n",
    "nusc = NuScenes(version=configs['init']['version'], dataroot=configs['init']['dataroot'], verbose=True)"
   ]
  },
  {
   "cell_type": "code",
   "execution_count": null,
   "metadata": {},
   "outputs": [],
   "source": [
    "raw_results = list()  #define list"
   ]
  },
  {
   "cell_type": "code",
   "execution_count": null,
   "metadata": {},
   "outputs": [],
   "source": [
    "\n",
    "    for type_name in obj_types:\n",
    "        path = os.path.join(result_folder, type_name, 'results.json')\n",
    "        f = open(path, 'r')\n",
    "        raw_results.append(json.load(f)['results'])\n",
    "        f.close()\n",
    "    \n",
    "    results = raw_results[0]\n",
    "    sample_tokens = list(results.keys())\n",
    "    for token in sample_tokens:\n",
    "        for i in range(1, len(obj_types)):\n",
    "            results[token] += raw_results[i][token]"
   ]
  },
  {
   "cell_type": "code",
   "execution_count": null,
   "metadata": {},
   "outputs": [],
   "source": [
    "submission_file = {\n",
    "        'meta': {\n",
    "            'use_camera': False, 'use_lidar': True, 'use_radar': False, 'use_map': False, 'use_external': False\n",
    "        },\n",
    "        'results': results\n",
    "    }\n",
    "\n",
    "    f = open(os.path.join(result_folder, 'results.json'), 'w')\n",
    "    json.dump(submission_file, f)\n",
    "    f.close()\n",
    "    return "
   ]
  }
 ],
 "metadata": {
  "kernelspec": {
   "display_name": "Python 3",
   "language": "python",
   "name": "python3"
  },
  "language_info": {
   "name": "python",
   "version": "3.8.10 (default, Nov 14 2022, 12:59:47) \n[GCC 9.4.0]"
  },
  "orig_nbformat": 4,
  "vscode": {
   "interpreter": {
    "hash": "5b3ded1ccb95c1d9bd405e7b823d9e85424cde40fbb5985eb47e999ef50e15b4"
   }
  }
 },
 "nbformat": 4,
 "nbformat_minor": 2
}
